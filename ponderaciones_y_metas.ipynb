{
 "cells": [
  {
   "cell_type": "code",
   "execution_count": 28,
   "metadata": {},
   "outputs": [],
   "source": [
    "import numpy as np\n",
    "\n",
    "def SimplexMatricial(A: np.array, b: np.array, c: np.array, var: np.array, verbose: bool=False, svm: bool=False):\n",
    "    B = np.eye(len(b))                    # Matriz de bases B de tamaño igual al número de holguras del problema.\n",
    "    A_original = A.copy()                 # Creamos dos copias de las matrices A, b y c ya que en pasos posteriores se necesitan las matrices originales y vamos a modificarlas.\n",
    "    b_original = b.copy()\n",
    "    c_original = -c.copy()\n",
    "    var_original = var.copy()             # Variables alfabéticas para saber exáctamente qué variable tiene qué valor.\n",
    "    base = var_original.copy()[-len(b):]  # Base alfabética para saber cuáles son las variables de la base.\n",
    "    z = 0                                 # Variable en la que guardaremos la solución.\n",
    "    c_b = np.zeros_like(b)                # Matriz de coeficientes de la base en la función objetivo.\n",
    "\n",
    "    #if verbose:\n",
    "      #it = 1\n",
    "      #print('Base inicial {'+', '.join(base)+'}')\n",
    "\n",
    "    while np.any(c < 0):                                       # Condición de parada cuando todos los coeficietes de la matriz c son positivos.\n",
    "        indice_mas_negativo = np.argmin(c)                     # Guardamos la posición del coeficiente de la matrix c más negativo.\n",
    "        columna_encontrada = A[:, indice_mas_negativo]         # Guardamos la columna de la matriz A que se encuentra debajo del coeficiente c anterior.\n",
    "        variable_entrada = A_original[:, indice_mas_negativo]  # Guardamos la misma información que en el paso anterior pero de la matriz A original para calcular después la matriz B.\n",
    "        #if verbose:\n",
    "          #print(f'Iteración {it}:')\n",
    "          #print(f'\\tFunción objetivo: {list(c)}')\n",
    "          #print(f'\\tVariable de entrada: {var_original[indice_mas_negativo]}')\n",
    "         # print(f'\\tColumna de entrada: {list(columna_encontrada)}')\n",
    "\n",
    "        idx_aux = [i for i in range(len(columna_encontrada)) if columna_encontrada[i] != 0.0]                     # Si existe algún cero, al quitarlo para que la división no de error es posible que los índices cambien por lo que guardamos dichos índices en una lista.\n",
    "\n",
    "        division_result = np.divide(b[columna_encontrada != 0.0], columna_encontrada[columna_encontrada != 0.0])  # Realizamos la división de b entre la columna de A, anteriormente guardada, para hallar la variable de salida.\n",
    "\n",
    "        #if verbose:\n",
    "         # print('\\tMínimo de {'+str(', '.join(list(str(b[i])+\"/\"+str(columna_encontrada[i]) for i in range(len(b)))))+'} -> ', np.min(division_result[division_result > 0]))\n",
    "\n",
    "        idx_aux_2 = [i for i in range(len(division_result)) if division_result[i] > 0.0]\n",
    "        posicion_variable_salida = np.argmin(division_result[division_result > 0.0])      # Guardamos la posición de la variable de salida con la condición de que sea el más pequeño pero positivo.\n",
    "        posicion_variable_salida = idx_aux_2[posicion_variable_salida]\n",
    "        posicion_variable_salida = idx_aux[posicion_variable_salida]\n",
    "        #if verbose:\n",
    "          #print(f'\\tVariable de salida: {base[posicion_variable_salida]}')\n",
    "\n",
    "        B[:, posicion_variable_salida] = variable_entrada                                 # Modificamos la matriz B, añadiéndole la 'variable_entrada' que es la columna de A original en la posición que hemos obtenido antes que ocupaba la 'variable_salida'.\n",
    "        base[posicion_variable_salida] = var_original[indice_mas_negativo]\n",
    "\n",
    "        c_b[posicion_variable_salida] = c_original[indice_mas_negativo]                   # Calculamos 'c_b'.\n",
    "\n",
    "\n",
    "\n",
    "\n",
    "        order = [(list(var_original).index(base[i]), i) for i in range(len(base))]        # Ordenamos la base manteniendo el orden inicial de las variables.\n",
    "        correct_order = sorted(order)\n",
    "        # print(correct_order)\n",
    "        B_aux = np.zeros_like(B)\n",
    "        c_b_aux = np.zeros_like(c_b)\n",
    "        base_aux = np.zeros_like(base)\n",
    "        for i,base_var in enumerate(correct_order):\n",
    "          B_aux[:,i] = B[:,base_var[1]]\n",
    "          c_b_aux[i] = c_b[base_var[1]]\n",
    "          base_aux[i] = base[base_var[1]]\n",
    "        B = B_aux.copy()\n",
    "        c_b = c_b_aux.copy()\n",
    "        base = base_aux\n",
    "\n",
    "\n",
    "\n",
    "        #if verbose:\n",
    "          #print('\\tColumnas de A en la base:')\n",
    "          #for e in B:\n",
    "         #   print(f'\\t{list(e)}')\n",
    "\n",
    "        #if verbose:\n",
    "          #print(f'\\tCoeficientes de la función objetivo de la base: {list(c_b)}')\n",
    "\n",
    "\n",
    "        inversa_B = np.linalg.inv(B)                                                      # Obtenemos la matriz inversa de B.\n",
    "        A = np.round(inversa_B @ A_original, 10)\n",
    "        # A[A == -0.0] = 0.0\n",
    "        b = np.round(inversa_B @ b_original, 10)\n",
    "\n",
    "        z = c_b @ inversa_B @ b_original\n",
    "        # print(c_b, inversa_B, A_original, c_original)\n",
    "        # print(c_original)\n",
    "        c = np.round((c_b @ inversa_B @ A_original) - c_original, 10)\n",
    "        # c[c == -0.0] = 0.0\n",
    "\n",
    "        #if verbose:\n",
    "         # print('\\tBase al final de la iteración: {'+', '.join(base)+'}')\n",
    "          #print(f'\\tFunción objetivo respecto a la nueva base: {list(c)}')\n",
    "          #print(f'\\tValor actualizado de la función objetivo: {z}')\n",
    "          #it += 1\n",
    "\n",
    "    #if svm:\n",
    "      #return c\n",
    "\n",
    "    punto = [0,0]\n",
    "    for i in range(len(b)):\n",
    "      if base[i] == \"x1\":\n",
    "        punto[0] = b[i]\n",
    "      if base[i] == \"x2\":\n",
    "        punto[1] = b[i]\n",
    "      #print(f'\\t{var_solution[i]} = {optimal_solution[i]}')\n",
    "    return punto\n",
    "\n",
    "    #return z, b, base  "
   ]
  },
  {
   "cell_type": "markdown",
   "metadata": {},
   "source": [
    "PRUEBA Simplex "
   ]
  },
  {
   "cell_type": "code",
   "execution_count": 2,
   "metadata": {},
   "outputs": [
    {
     "name": "stdout",
     "output_type": "stream",
     "text": [
      "[0, 2.5]\n"
     ]
    }
   ],
   "source": [
    "c = np.array([-1, -5, 0, 0])\n",
    "A = np.array([[3, 1, 1, 0],[1, 4, 0, 1]])\n",
    "b = np.array([9, 10])\n",
    "var = np.array(['x1', 'x2', 's1', 's2'])\n",
    "a = SimplexMatricial(A,b,c,var,True)\n",
    "print(a)"
   ]
  },
  {
   "cell_type": "markdown",
   "metadata": {},
   "source": [
    "Algoritmo ponderaciones"
   ]
  },
  {
   "cell_type": "code",
   "execution_count": 10,
   "metadata": {},
   "outputs": [],
   "source": [
    "from scipy.optimize import linprog\n",
    "from sympy import symbols, Eq, solve\n",
    "\n",
    "\n",
    "def calcular_soluciones_con_diferentes_ponderaciones(c, A_eq, b_eq, var):#pendiente_restriccion):\n",
    "    \n",
    "    \n",
    "\n",
    "    # Inicializamos listas para almacenar las pendientes tanto de las restricciones como de las funciones objetivo\n",
    "    pendientes_objetivo = []\n",
    "    pendiente_solucion = []\n",
    "    for i in range(len(c)):\n",
    "        if c[i][1]==0:\n",
    "            for i in range(len(A_eq)):\n",
    "                pendiente_solucion.append([-A_eq[i][0]/A_eq[i][1],A_eq[i]])\n",
    "            \n",
    "    \n",
    "    if pendiente_solucion == []:\n",
    "        for i in range(len(c)):\n",
    "            pendientes_objetivo.append(-c[i][0]/c[i][1])\n",
    "        pendientes_restriccion = []\n",
    "        for i in range(len(A_eq)):\n",
    "            pendientes_restriccion.append([-A_eq[i][0]/A_eq[i][1],A_eq[i]])\n",
    "\n",
    "\n",
    "\n",
    "\n",
    "        #En pendiente_solucion guardamos la pendiente y la recta de las restricciones que tienen pendiente entre las funciones objetivo\n",
    "        #Se supone que las pendientes objetivo seran siempre 2\n",
    "        for m_si in pendientes_restriccion:\n",
    "            if (m_si[0]<pendientes_objetivo[1] and m_si[0]>pendientes_objetivo[0]) or (m_si[0]>pendientes_objetivo[1] and m_si[0]<pendientes_objetivo[0]):\n",
    "                pendiente_solucion.append(m_si)\n",
    "    #print(pendiente_solucion)\n",
    "\n",
    "\n",
    "    #Para cada restricción que tenga pendiente entre las funciones objetivo, calculamos su landa1 y landa2 \n",
    "    #esto lo hacemos con una fórmula que hemos deducido al generalizar para cualquier caso los pasos que seguimos en clase\n",
    "    lambdas=[]\n",
    "    for m in pendiente_solucion:\n",
    "        A = np.array([[(c[0][0]+m[0]*c[0][1]), (c[1][0]+m[0]*c[1][1])], [1, 1]])\n",
    "        b = np.array([0, 1])\n",
    "        l1, l2 = np.linalg.solve(A, b)\n",
    "        lambdas.append([[l1,l2],m[1]])\n",
    "    #print(lambdas)\n",
    "\n",
    "\n",
    "\n",
    "    #calculamos las landa1/landa2 de cada restricción viable. Nos guardamos también los valores x e y de esa restricción para en un futuro usar la recta.\n",
    "    restricciones_sol = []\n",
    "    for l in range(len(lambdas)):\n",
    "        restricciones_sol.append([lambdas[l][0][0]/lambdas[l][0][1],lambdas[l][1]])\n",
    "    #print(restricciones_sol)\n",
    "    restricciones_sol = sorted(restricciones_sol, reverse=True)\n",
    "    #print(\"hola\"+str(restricciones_sol))\n",
    "    \n",
    "\n",
    "\n",
    "    #siempre tendremos un punto solución que proviene de hallar simplex con landa1 = 1 y landa2 = 0\n",
    "    #Ya que cuando digamos que siendo el landa1/landa2 elegido, mayor que el l1/l2 máximo en restricciones_sol, esto se puede calcular dando total prioridad a landa 1\n",
    "    #más adelante se hace lo mismo con el landa1/landa2 siendo menor que el mínimo, por tanto ahí se da prioridad a landa 2 y hallando el punto B.\n",
    "    punto_A=SimplexMatricial(A_eq, b_eq,c[0],var,True)\n",
    "    puntos_sol=[]\n",
    "    puntos_sol.append(punto_A)\n",
    "    #print(puntos_sol)\n",
    "\n",
    "\n",
    "    \n",
    "    #si solamente hay una restricción con pendiente entre las funciones objetivo, con los puntos A y B ya habríamos acabado.\n",
    "    #si hay dos o más restricciones válidas, entonces debemos calcular los landa1 y landa2 para que su cociente sea mayor y menor a los landa1/landa2 en restricciones_sol.\n",
    "\n",
    "    #otra forma de solucionarlo, y la que usaremos, será calcular los punto de corte entre las restricciones válidas, que al estar ya ordenadas de mayor a menor por sus landa1/landa2 sabemos que\n",
    "    #nos darán los puntos solución que queremos.\n",
    "\n",
    "\n",
    "    #sacar los puntos solución que se hallan haciendo intersección de las restricciones con pendiente entre las funciones objetivo (en caso de que haya 2 o más restricciones que lo cumplan)\n",
    "    rectas = np.zeros((len(restricciones_sol),len(restricciones_sol[0][1])))\n",
    "    #print(rectas)\n",
    "    for i in range(len(restricciones_sol)):\n",
    "        rectas[i] = list(restricciones_sol[i][1])\n",
    "    #print(rectas)\n",
    "    a_sol = []\n",
    "    b_sol = []\n",
    "    for i in range(len(A_eq)):\n",
    "        if A_eq[i] in rectas:\n",
    "            a_sol.append(list(A_eq[i]))\n",
    "            b_sol.append(b_eq[i])\n",
    "    #print(a_sol)\n",
    "    #print(b_sol)\n",
    "    \n",
    "    x, y = symbols('x y')    #con esto se definen las variables para resolver el sistema con las ecuaciones de las rectas\n",
    "    if len(a_sol) >= 2:\n",
    "        for i in range(len(a_sol)-1):\n",
    "            A1, B1, C1 = a_sol[i][0], a_sol[i][1], b_sol[i]  # Coeficientes de la primera recta\n",
    "            A2, B2, C2 = a_sol[i+1][0], a_sol[i+1][1], b_sol[i+1]  # Coeficientes de la segunda recta\n",
    "            # Definir las ecuaciones de las rectas en forma general\n",
    "            eq1 = Eq(A1 * x + B1 * y, C1)\n",
    "            eq2 = Eq(A2 * x + B2 * y, C2)\n",
    "\n",
    "            # Resolver el sistema de ecuaciones para encontrar el punto de intersección\n",
    "            intersection = solve((eq1, eq2), (x, y))\n",
    "\n",
    "            # El punto de intersección con las coordenadas (x, y)\n",
    "            puntos_sol.append(list(intersection.values()))\n",
    "    #print(puntos_sol)\n",
    "\n",
    "\n",
    "    #siempre tendremos un punto solución que proviene de hallar simplex con landa1 = 0 y landa2 = 1\n",
    "    #Ya que cuando digamos que siendo el landa1/landa2 elegido, menor que el l1/l2 mínimo en restricciones_sol, esto se puede calcular dando total prioridad a landa 2\n",
    "    punto_B=SimplexMatricial(A_eq, b_eq,c[1],var,True)\n",
    "    puntos_sol.append(punto_B)\n",
    "    #print(puntos_sol)\n",
    "\n",
    "    #de esta manera en puntos_sol ya tenemos todos los puntos que serán solución, así como sus segmentos al unirlos 2 a 2.\n",
    "    #lo que nos falta es hacer un print en el que digamos que dependiendo de que valores de landa1/landa2, diremos cual será el punto o segmento solución.\n",
    "\n",
    "    for i in range(len(restricciones_sol)):\n",
    "        #print(restricciones_sol)\n",
    "        punto_mayor=puntos_sol[i]\n",
    "        punto_menor=puntos_sol[i+1]\n",
    "        segmento=puntos_sol[i:i+2]\n",
    "        print(\"Si landa 1 / landa 2 es mayor que \"+str(restricciones_sol[i][0])+\" entonces el punto solución es \"+str(punto_mayor))\n",
    "        print(\"Si landa 1 / landa 2 es igual que \"+str(restricciones_sol[i][0])+\" entonces el segmento solución es la unión de los dos puntos \"+str(segmento))\n",
    "        print(\"Si landa 1 / landa 2 es menor que \"+str(restricciones_sol[i][0])+\" entonces el punto solución es \"+str(punto_menor))"
   ]
  },
  {
   "cell_type": "markdown",
   "metadata": {},
   "source": [
    "Ejemplo de uso"
   ]
  },
  {
   "cell_type": "code",
   "execution_count": 6,
   "metadata": {},
   "outputs": [
    {
     "name": "stdout",
     "output_type": "stream",
     "text": [
      "Si landa 1 / landa 2 es mayor que 0.14285714285714285 entonces el punto solución es [2.3636363636, 1.9090909091]\n",
      "Si landa 1 / landa 2 es igual que 0.14285714285714285 entonces el segmento solución es la unión de los dos puntos [[2.3636363636, 1.9090909091], [0, 2.5]]\n",
      "Si landa 1 / landa 2 es menor que 0.14285714285714285 entonces el punto solución es [0, 2.5]\n"
     ]
    }
   ],
   "source": [
    "c = np.array([[-2, -1, 0, 0], [-1, -5, 0, 0]])  # Coeficientes de la función objetivo\n",
    "A_eq = np.array([[3, 1, 1, 0], [1, 4, 0, 1]])  # Coeficientes de las restricciones de igualdad\n",
    "b_eq = np.array([9, 10])  # Lados derechos de las restricciones de igualdad    \n",
    "var = np.array(['x1', 'x2', 's1', 's2']) \n",
    "calcular_soluciones_con_diferentes_ponderaciones(c, A_eq, b_eq,var)"
   ]
  },
  {
   "cell_type": "markdown",
   "metadata": {},
   "source": [
    "Ejemplo de uso con dos restrcciones válidas"
   ]
  },
  {
   "cell_type": "code",
   "execution_count": 11,
   "metadata": {},
   "outputs": [
    {
     "name": "stdout",
     "output_type": "stream",
     "text": [
      "Si landa 1 / landa 2 es mayor que 1.3333333333333333 entonces el punto solución es [50.0, 0]\n",
      "Si landa 1 / landa 2 es igual que 1.3333333333333333 entonces el segmento solución es la unión de los dos puntos [[50.0, 0], [36.6666666666667, 17.7777777777778]]\n",
      "Si landa 1 / landa 2 es menor que 1.3333333333333333 entonces el punto solución es [36.6666666666667, 17.7777777777778]\n",
      "Si landa 1 / landa 2 es mayor que 0.3333333333333333 entonces el punto solución es [36.6666666666667, 17.7777777777778]\n",
      "Si landa 1 / landa 2 es igual que 0.3333333333333333 entonces el segmento solución es la unión de los dos puntos [[36.6666666666667, 17.7777777777778], [0, 30.0]]\n",
      "Si landa 1 / landa 2 es menor que 0.3333333333333333 entonces el punto solución es [0, 30.0]\n"
     ]
    }
   ],
   "source": [
    "c = np.array([[-1, 0, 0, 0], [0, -1, 0, 0]])  # Coeficientes de la función objetivo\n",
    "A_eq = np.array([[1, 3, 1, 0], [2, 1.5, 0, 1]])  # Coeficientes de las restricciones de igualdad\n",
    "b_eq1 = np.array([90, 100])  # Lados derechos de las restricciones de igualdad    \n",
    "var = np.array(['x1', 'x2', 's1', 's2']) \n",
    "calcular_soluciones_con_diferentes_ponderaciones(c, A_eq, b_eq1,var)"
   ]
  },
  {
   "cell_type": "markdown",
   "metadata": {},
   "source": [
    "Algoritmo metas"
   ]
  },
  {
   "cell_type": "markdown",
   "metadata": {},
   "source": [
    "Con el def pruebas iremos haciendo simplex con las restricciones desde la primera, añadiendo más restricciones de una en una por su orden de importancia. Se espera que el usuario entregue las restricciones en orden de importancia de mayor a menor."
   ]
  },
  {
   "cell_type": "code",
   "execution_count": 129,
   "metadata": {},
   "outputs": [],
   "source": [
    "def pruebas(A,b,c,var):\n",
    "  \n",
    "\n",
    "  numero_restricciones = 0  #para ir viendo con cuantas restricciones se ha solucionado esta iteración\n",
    "\n",
    "  for j in range(len(A)):             #con este for creamos atest2, que serán las restricciones que se usarán para simplex en cada iteración\n",
    "    A_test = A_eq[0:j+1]              #ya que hay que adaptarlo en cada iteración a las s1,s2,s3... que vaya necesitando dependiendo del numero de restricciones que haya\n",
    "    atest2 = np.zeros((len(A_test),j+3))\n",
    "    for i in range(len(A_test)):\n",
    "      atest2[i] = list(A_test[i][0:j+3])\n",
    "    #print(atest2)\n",
    "\n",
    "    nueva_objetivo = atest2[-1]\n",
    "    nueva_objetivo2 = np.concatenate((nueva_objetivo[0:2],np.zeros(j)))   #en caso de que en cada iteeración, no sean compatibles las restricciones\n",
    "                                                                          #creamos nuev_objetivo para que la última restricción, que es la que da error, \n",
    "                                                                          #sea la nueva función objetivo\n",
    "    \n",
    "    b_test = b[0:j+1]    #adaptamos b, c y var dependiendo del numero de restricciones en cada iteracion\n",
    "    c_test=c[0:j+3]\n",
    "    var_test = var[0:j+3]\n",
    "    #print(b_test)\n",
    "    #print(c_test)\n",
    "    #print(var_test)\n",
    "    numero_restricciones += 1\n",
    "    print('Simplex con %d restricciones:' %numero_restricciones)\n",
    "    try:\n",
    "      punto = SimplexMatricial(atest2,b_test,c_test,var_test,True) \n",
    "             \n",
    "      print(punto)     #el punto solución cada vez que vamos metiendo una restriccion\n",
    "    except:\n",
    "      j = j-1\n",
    "      break\n",
    "\n",
    "  return j, nueva_objetivo2 #hacemos el simplex y si hay un error, es decir, no hay región factible nos devuelve el valor de j que es la posición de la meta problemática, que modificaremos en def metas()."
   ]
  },
  {
   "cell_type": "markdown",
   "metadata": {},
   "source": [
    "Función principal del algoritmo por metas, el usuario entrega un a, b, c y var de la misma manera que en la función SimplexMatricial para que esta función pueda funcionar."
   ]
  },
  {
   "cell_type": "code",
   "execution_count": 158,
   "metadata": {},
   "outputs": [],
   "source": [
    "def metas(A, b, c, var):\n",
    "\n",
    "  #Comprobamos si hemos hallado una restricción que no sea compatible\n",
    "  j,nueva_objetivo = pruebas(A,b,c,var)  #cojo la posición de la que da error (en caso de que haya) y pasará a ser la funcion objetivo\n",
    "  #print(j)\n",
    "  if j == len(A)-1:     #si no hay ninguna restricción que de problemas, hace simplex tal y como vienen los datos dados\n",
    "      #print(A,b,c,var)\n",
    "      punto = SimplexMatricial(A,b,c,var,True)\n",
    "      print('El simplex se puede hacer con la/s restricción/es y su proceso y resultado es: '+str(punto))\n",
    "      \n",
    "\n",
    "  # Encontramos la meta problemática\n",
    "  else:      #si hay una restricción no factible, esta pasa a ser la objetivo\n",
    "      print('No se puede aplicar simplex pues la región factible queda nula')\n",
    "      # Cambiamos la función objetivo por la restricción problemática\n",
    "      c = nueva_objetivo*-1 # minimizar la restricción problemática para que esté dentro de la región factible.\n",
    "      A_test = A_eq[0:j+1]   #el A se adapta a las restricciones que tenemos, es j+1 porque si por ejemplo la segunda restriccion falla,\n",
    "                             #j será 0, y de A debo coger solo la primera restricción\n",
    "      atest2 = np.zeros((len(A_test),j+3))    \n",
    "      for i in range(len(A_test)):\n",
    "        atest2[i] = list(A_test[i][0:j+3])    #creamos atest2 con las restricciones necesarios para el caso \n",
    "      b = b[0:j]   #se seleccionan las b necesarias\n",
    "      \n",
    "      punto = SimplexMatricial(atest2,b,c,var,True)\n",
    "      print('Hacemos símplex para minimizar la diferencia entre la restricción problemática y el punto de compromiso. '+str(punto))\n",
    "      "
   ]
  },
  {
   "cell_type": "markdown",
   "metadata": {},
   "source": [
    "Ejemplo de uso con restricciones con región factible"
   ]
  },
  {
   "cell_type": "code",
   "execution_count": 159,
   "metadata": {},
   "outputs": [
    {
     "name": "stdout",
     "output_type": "stream",
     "text": [
      "Simplex con 1 restricciones:\n",
      "[0, 4.0]\n",
      "Simplex con 2 restricciones:\n",
      "[0.5, 3.0]\n",
      "Simplex con 3 restricciones:\n",
      "[0.5, 3.0]\n",
      "El simplex se puede hacer con la/s restricción/es y su proceso y resultado es: [0.5, 3.0]\n"
     ]
    }
   ],
   "source": [
    "c = np.array([-1, -1, 0, 0, 0])  # Coeficientes de la función objetivo\n",
    "A_eq = np.array([[4, 2, 1, 0, 0], [2, 3, 0, 1, 0], [6, -1, 0, 0, 1]])  # Coeficientes de las restricciones de igualdad\n",
    "b_eq1 = np.array([8, 10, 9])  # Lados derechos de las restricciones de igualdad    \n",
    "var = np.array(['x1', 'x2', 's1', 's2','s3']) \n",
    "metas(A_eq,b_eq1,c,var)"
   ]
  },
  {
   "cell_type": "markdown",
   "metadata": {},
   "source": [
    "Ejemplo de uso con restricciones con región no factible."
   ]
  },
  {
   "cell_type": "code",
   "execution_count": 160,
   "metadata": {},
   "outputs": [
    {
     "name": "stdout",
     "output_type": "stream",
     "text": [
      "Simplex con 1 restricciones:\n",
      "[0, 4.0]\n",
      "Simplex con 2 restricciones:\n",
      "[0.5, 3.0]\n",
      "Simplex con 3 restricciones:\n",
      "[0.5, 3.0]\n",
      "Simplex con 4 restricciones:\n",
      "[0.5, 3.0]\n",
      "El simplex se puede hacer con la/s restricción/es y su proceso y resultado es: [0.5, 3.0]\n"
     ]
    }
   ],
   "source": [
    "c = np.array([-1, -1, 0, 0, 0, 0])  # Coeficientes de la función objetivo\n",
    "A_eq = np.array([[4, 2, 1, 0, 0, 0], [2, 3, 0, 1, 0, 0], [6, -1, 0, 0, 1, 0],[5, -3, 0, 0, 0, 1]])  # Coeficientes de las restricciones de igualdad\n",
    "b_eq1 = np.array([8, 10, 2, -13])  # Lados derechos de las restricciones de igualdad    \n",
    "var = np.array(['x1', 'x2', 's1', 's2','s3', 's4']) \n",
    "metas(A_eq,b_eq1,c,var)"
   ]
  },
  {
   "cell_type": "markdown",
   "metadata": {},
   "source": [
    "El problema es que la función de SimplexMatricial que nos han compartido no da error cuando la región no es factible, por tanto no entra en nuestro except. Entendemos que programar simplex excede los contenidos de nuestro trabajo, si se le entregara a nuestro algoritmo de metas un algoritmo de simplex que cuando la región de las restricciones no sea factible, este levante un error, en ese caso nuestro algoritmo daría la respuesta apropiada."
   ]
  },
  {
   "cell_type": "code",
   "execution_count": 139,
   "metadata": {},
   "outputs": [
    {
     "data": {
      "text/plain": [
       "[0.5, 3.0]"
      ]
     },
     "execution_count": 139,
     "metadata": {},
     "output_type": "execute_result"
    }
   ],
   "source": [
    "SimplexMatricial(A_eq,b_eq1,c,var)\n",
    "#aqui vemos que devuelve un resultado cuando la región no es factible."
   ]
  },
  {
   "cell_type": "markdown",
   "metadata": {},
   "source": [
    "Comprobamos que linprog tampoco levanta un error y por tanto no puede ser utilizado, lo que hace es devolver ya un resultado aproximado, haciendo nuestro trabajo al solucionarlo por metas, pero no permitiendo que de error y que podamos aplicar nuestro algoritmo"
   ]
  },
  {
   "cell_type": "code",
   "execution_count": 156,
   "metadata": {},
   "outputs": [
    {
     "name": "stdout",
     "output_type": "stream",
     "text": [
      "[0.         3.33333333]\n",
      "2\n"
     ]
    }
   ],
   "source": [
    "from scipy.optimize import linprog\n",
    "\n",
    "c = [1, 1]\n",
    "a = [[4, 2], [2, 3], [6, -1], [5, -3]]\n",
    "b = [8, 10, 2, -13]\n",
    "try:\n",
    "    res = linprog(c, A_ub=a, b_ub=b, method=\"simplex\")\n",
    "    print(res.x)\n",
    "    print(res.status)\n",
    "except:\n",
    "    print(1)"
   ]
  },
  {
   "cell_type": "markdown",
   "metadata": {},
   "source": [
    "Entendemos que la única manera de ver que las regiones no son factibles, es utilizando un simplex que levante un error cuando esto suceda, ya que de otra manera no podemos ver que al añadir una restricción esta no sea factible. hemos visto que linprog devuelve un status en el que si este es 2, significa que la solución no es factible. Si es necesario que esto se devuelva bien para que la práctica sea correcta, podemos adaptar el algoritmo a que se use linprog, ya que ahora mismo linprog no recibe las variables de la misma forma en la que las tenemos. Pero no hemos hemos hecho esto ya que anteriormente habíamos mencionado que linprog no nos devuelve correctamente los resultados de simplex."
   ]
  }
 ],
 "metadata": {
  "kernelspec": {
   "display_name": "Python 3",
   "language": "python",
   "name": "python3"
  },
  "language_info": {
   "codemirror_mode": {
    "name": "ipython",
    "version": 3
   },
   "file_extension": ".py",
   "mimetype": "text/x-python",
   "name": "python",
   "nbconvert_exporter": "python",
   "pygments_lexer": "ipython3",
   "version": "3.9.13"
  }
 },
 "nbformat": 4,
 "nbformat_minor": 2
}
